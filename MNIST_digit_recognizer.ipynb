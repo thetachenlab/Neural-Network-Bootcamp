{
  "nbformat": 4,
  "nbformat_minor": 0,
  "metadata": {
    "colab": {
      "provenance": [],
      "authorship_tag": "ABX9TyMhprVyMQLexO0utQ+cm2Gb",
      "include_colab_link": true
    },
    "kernelspec": {
      "name": "python3",
      "display_name": "Python 3"
    },
    "language_info": {
      "name": "python"
    }
  },
  "cells": [
    {
      "cell_type": "markdown",
      "metadata": {
        "id": "view-in-github",
        "colab_type": "text"
      },
      "source": [
        "<a href=\"https://colab.research.google.com/github/thetachenlab/Neural-Network-Bootcamp/blob/main/MNIST_digit_recognizer.ipynb\" target=\"_parent\"><img src=\"https://colab.research.google.com/assets/colab-badge.svg\" alt=\"Open In Colab\"/></a>"
      ]
    },
    {
      "cell_type": "code",
      "execution_count": 1,
      "metadata": {
        "id": "Roq6PtCI22yN"
      },
      "outputs": [],
      "source": [
        "import numpy as np\n",
        "import pandas as pd\n",
        "from matplotlib import pyplot as plt\n",
        "\n",
        "data = pd.read_csv('sample_data/mnist_train_small.csv')"
      ]
    },
    {
      "cell_type": "code",
      "source": [
        "from re import X\n",
        "data = np.array(data)\n",
        "m, n = data.shape\n",
        "print(m,n)\n",
        "np.random.shuffle(data) # shuffle before splitting into dev and training sets\n",
        "\n",
        "data_dev = data[0:1000].T\n",
        "\n",
        "Y_dev = data_dev[0]\n",
        "X_dev = data_dev[1:n]\n",
        "X_dev = X_dev / 255.\n",
        "\n",
        "data_train = data[1000:m].T\n",
        "Y_train = data_train[0]\n",
        "X_train = data_train[1:n]\n",
        "X_train = X_train / 255.\n",
        "_,m_train = X_train.shape\n",
        "\n",
        "print(data_train.shape)\n",
        "print(X_train.shape)"
      ],
      "metadata": {
        "id": "jA_mnm9y7j-E",
        "outputId": "b956a9f4-c7cf-4685-eef8-0b05be61aebb",
        "colab": {
          "base_uri": "https://localhost:8080/"
        }
      },
      "execution_count": 5,
      "outputs": [
        {
          "output_type": "stream",
          "name": "stdout",
          "text": [
            "19999 785\n",
            "(785, 18999)\n",
            "(784, 18999)\n"
          ]
        }
      ]
    },
    {
      "cell_type": "markdown",
      "source": [
        "\n",
        "* ${X_j}= [784\\times m]$ where $m$ is the number of training dataset.\n",
        "* ${Y_j}= [10\\times m]$ where $m$ is the number of training dataset.\n",
        "\n",
        "First layer\n",
        "* $W^{[1]}_{ij}= [10\\times 784]$\n",
        "* $B^{[1]}_i = [10\\times 1]$\n",
        "* ${Z^{[1]}_i}= [10\\times m]$\n",
        "* ${A^{[1]}_i}= [10\\times m]$\n",
        "\n",
        "Second layer\n",
        "* $W^{[2]}_{ij}= [10\\times10]$\n",
        "* $B^{[2]}_i = [10\\times 1]$\n",
        "* ${Z^{[2]}_i}= [10\\times m]$\n",
        "* ${A^{[2]}_i}= [10\\times m]$\n",
        "\n",
        "Forward propagation:\n",
        "\\begin{align}\n",
        "Z^{[1]}_i &= \\sum_j^{784} W^{[1]}_{ij}X_j+B^{[1]}_i \\\\\n",
        "A^{[1]}_i &= \\text{ReLU} (Z^{[1]}_i) \\\\\n",
        "Z^{[2]}_i &= \\sum_j^{10} W^{[2]}_{ij}A^{[1]}_j+B^{[2]}_i \\\\\n",
        "A^{[2]}_i &= \\text{softmax} (\\{Z^{[2]}_i\\}) \\\\\n",
        "\\end{align}\n",
        "where $\\text{softmax}(\\{Z^{[2]}_i\\})=e^{Z^{[2]}_i}/\\sum_j e^{Z^{[2]}_j}$.\n",
        "\n",
        "Cross-entropy loss\n",
        "\\begin{equation}\n",
        "\\mathcal{L} = -\\sum_i Y_i\\log(A^{[2]}_i)\n",
        "\\end{equation}\n",
        "\n",
        "Backward propagation\n",
        "\\begin{align}\n",
        "\\frac{\\partial\\mathcal{L}}{\\partial A^{[2]}_i}=-\\frac{Y_i}{A^{[2]}_i}\n",
        "\\end{align}\n",
        "\\begin{align}\n",
        "\\frac{\\partial A^{[2]}_i}{\\partial Z^{[2]}_j}&=A^{[2]}_i(1-A^{[2]}_i)\\delta_{ij}-A^{[2]}_iA^{[2]}_j(1-\\delta_{ij}) \\\\\n",
        "\\frac{\\partial\\mathcal{L}}{\\partial Z^{[2]}_j}&=\\sum_i\\frac{\\partial\\mathcal{L}}{\\partial A^{[2]}_i}\\frac{\\partial A^{[2]}_i}{\\partial Z^{[2]}_j}\\\\\n",
        "&=-\\sum_i\\frac{Y_i}{A^{[2]}_i} [A^{[2]}_i(1-A^{[2]}_i)\\delta_{ij}-A^{[2]}_iA^{[2]}_j(1-\\delta_{ij})]\\\\\n",
        "&=-\\sum_i{Y_i} [(1-A^{[2]}_i)\\delta_{ij}-A^{[2]}_j(1-\\delta_{ij})]\\\\\n",
        "&=-{Y_j}(1-A^{[2]}_j) + A^{[2]}_j - {Y_j}A^{[2]}_j\\\\\n",
        "&=-{Y_j}+ A^{[2]}_j\n",
        "\\end{align}\n",
        "(Note that $\\sum {Y_i}=1$)\n",
        "so $\\delta Z^{[2]}=A^{[2]} -Y$.\n",
        "\n",
        "---\n",
        "\n",
        "> Questions: Why we average over the training data to build $\\delta W^{[2]}$ here?\n",
        "\n",
        "\n",
        "\\begin{align}\n",
        "\\frac{\\partial Z^{[2]}_i}{\\partial W^{[2]}_{ij}}&=A^{[1]}_j\\\\\n",
        "\\frac{\\partial\\mathcal{L}}{\\partial W^{[2]}_{ij}}&=\\frac{\\partial\\mathcal{L}}{\\partial Z^{[2]}_i}\\frac{\\partial Z^{[2]}_i}{\\partial W^{[2]}_{ij}}\\\\\n",
        "&=(-{Y_i}+ A^{[2]}_i)\\cdot A^{[1]}_j\n",
        "\\end{align}\n",
        "so $\\delta W^{[2]}=\\frac{1}{m} \\delta Z^{[2]}\\cdot A^{[1]T}$\n",
        "\n",
        "\\begin{align}\n",
        "\\frac{\\partial Z^{[2]}_i}{\\partial B^{[2]}_{j}}&=\\delta_{ij}\\\\\n",
        "\\frac{\\partial\\mathcal{L}}{\\partial B^{[2]}_{i}}&=\\frac{\\partial\\mathcal{L}}{\\partial Z^{[2]}_i}\\frac{\\partial Z^{[2]}_i}{\\partial B^{[2]}_{i}}\\\\\n",
        "&=-{Y_i}+ A^{[2]}_i\n",
        "\\end{align}\n",
        "so $\\delta B^{[2]}=\\frac{1}{m}\\sum \\delta Z^{[2]}$.\n",
        "\n",
        "\n",
        "---\n",
        "\\begin{align}\n",
        "\\frac{\\partial Z^{[2]}_j}{\\partial A^{[1]}_k}&=W^{[2]}_{jk}\\\\\n",
        "\\frac{\\partial A^{[1]}_k}{\\partial Z^{[1]}_k}&=\\Theta(Z^{[1]}_k)\\\\\n",
        "\\end{align}\n",
        "\n",
        "\\begin{align}\n",
        "\\frac{\\partial\\mathcal{L}}{\\partial Z^{[1]}_k}&=\\sum_{j}\\frac{\\partial\\mathcal{L}}{\\partial Z^{[2]}_j}\\frac{\\partial Z^{[2]}_j}{\\partial A^{[1]}_k}\\frac{\\partial A^{[1]}_k}{\\partial Z^{[1]}_k}\\\\\n",
        "&=\\sum_{j}(-{Y_j}+ A^{[2]}_j)W^{[2]}_{jk}\\Theta(Z^{[1]}_k)\n",
        "\\end{align}\n",
        "Note that $\\sum_j$ is inner product and the $k$ index is element-wise muliplication. So $\\delta Z^{[1]} = W^{[2]T}\\cdot\\delta Z^{[2]} * \\Theta(Z^{[1]})$\n",
        "\n",
        "\n",
        "Since $Z$ in the first second layers are both linear, we have $\\delta W^{[1]}=\\frac{1}{m} \\delta Z^{[1]}\\cdot A^{[0]T}$ where $A^{[0]}\\equiv X$ and $\\delta B^{[1]}=\\frac{1}{m}\\sum \\delta Z^{[1]}$."
      ],
      "metadata": {
        "id": "47wDSEmsuvhG"
      }
    },
    {
      "cell_type": "code",
      "source": [
        "def init_params():\n",
        "    W1 = np.random.rand(10, 784) - 0.5\n",
        "    b1 = np.random.rand(10, 1) - 0.5\n",
        "    W2 = np.random.rand(10, 10) - 0.5\n",
        "    b2 = np.random.rand(10, 1) - 0.5\n",
        "    return W1, b1, W2, b2\n",
        "\n",
        "def ReLU(Z):\n",
        "    return np.maximum(Z, 0)\n",
        "\n",
        "def softmax(Z):\n",
        "    A = np.exp(Z) / sum(np.exp(Z))\n",
        "    return A\n",
        "\n",
        "def forward_prop(W1, b1, W2, b2, X):\n",
        "    Z1 = W1.dot(X) + b1\n",
        "    A1 = ReLU(Z1)\n",
        "    Z2 = W2.dot(A1) + b2\n",
        "    A2 = softmax(Z2)\n",
        "    return Z1, A1, Z2, A2\n",
        "\n",
        "def ReLU_deriv(Z):\n",
        "    return Z > 0\n",
        "\n",
        "def one_hot(Y):\n",
        "    one_hot_Y = np.zeros((Y.size, Y.max() + 1))\n",
        "    one_hot_Y[np.arange(Y.size), Y] = 1\n",
        "    one_hot_Y = one_hot_Y.T\n",
        "    return one_hot_Y\n",
        "\n",
        "def backward_prop(Z1, A1, Z2, A2, W1, W2, X, Y):\n",
        "    one_hot_Y = one_hot(Y)\n",
        "    dZ2 = A2 - one_hot_Y\n",
        "    dW2 = 1 / m * dZ2.dot(A1.T)\n",
        "    db2 = 1 / m * np.sum(dZ2)\n",
        "    dZ1 = W2.T.dot(dZ2) * ReLU_deriv(Z1)\n",
        "    dW1 = 1 / m * dZ1.dot(X.T)\n",
        "    db1 = 1 / m * np.sum(dZ1)\n",
        "    return dW1, db1, dW2, db2\n",
        "\n",
        "def update_params(W1, b1, W2, b2, dW1, db1, dW2, db2, alpha):\n",
        "    W1 = W1 - alpha * dW1\n",
        "    b1 = b1 - alpha * db1\n",
        "    W2 = W2 - alpha * dW2\n",
        "    b2 = b2 - alpha * db2\n",
        "    return W1, b1, W2, b2"
      ],
      "metadata": {
        "id": "pS6SIaDA9LkT"
      },
      "execution_count": 8,
      "outputs": []
    },
    {
      "cell_type": "code",
      "source": [
        "# test\n",
        "W1, b1, W2, b2 = init_params()\n",
        "Z1, A1, Z2, A2 = forward_prop(W1, b1, W2, b2, X_train)\n",
        "dW1, db1, dW2, db2 = backward_prop(Z1, A1, Z2, A2, W1, W2, X_train, Y_train)"
      ],
      "metadata": {
        "id": "6SMJnRC698xH"
      },
      "execution_count": 9,
      "outputs": []
    },
    {
      "cell_type": "code",
      "source": [
        "def get_predictions(A2):\n",
        "    return np.argmax(A2, 0)\n",
        "\n",
        "def get_accuracy(predictions, Y):\n",
        "    print(predictions, Y)\n",
        "    return np.sum(predictions == Y) / Y.size\n",
        "\n",
        "def gradient_descent(X, Y, alpha, iterations):\n",
        "    W1, b1, W2, b2 = init_params()\n",
        "    for i in range(iterations):\n",
        "        Z1, A1, Z2, A2 = forward_prop(W1, b1, W2, b2, X)\n",
        "        dW1, db1, dW2, db2 = backward_prop(Z1, A1, Z2, A2, W1, W2, X, Y)\n",
        "        W1, b1, W2, b2 = update_params(W1, b1, W2, b2, dW1, db1, dW2, db2, alpha)\n",
        "        if i % 10 == 0:\n",
        "            print(\"Iteration: \", i)\n",
        "            predictions = get_predictions(A2)\n",
        "            print(get_accuracy(predictions, Y))\n",
        "    return W1, b1, W2, b2"
      ],
      "metadata": {
        "id": "28a-y3Vx9ekV"
      },
      "execution_count": 10,
      "outputs": []
    },
    {
      "cell_type": "code",
      "source": [
        "W1, b1, W2, b2 = gradient_descent(X_train, Y_train, 0.10, 500)"
      ],
      "metadata": {
        "id": "9cd98pg79lC9",
        "outputId": "a59eca73-77b1-494a-bf93-a3bb572aeb8b",
        "colab": {
          "base_uri": "https://localhost:8080/"
        }
      },
      "execution_count": 11,
      "outputs": [
        {
          "output_type": "stream",
          "name": "stdout",
          "text": [
            "Iteration:  0\n",
            "[0 6 6 ... 6 6 6] [1 1 8 ... 7 4 9]\n",
            "0.10890046844570767\n",
            "Iteration:  10\n",
            "[0 6 9 ... 6 1 1] [1 1 8 ... 7 4 9]\n",
            "0.19579977893573347\n",
            "Iteration:  20\n",
            "[0 6 6 ... 9 1 1] [1 1 8 ... 7 4 9]\n",
            "0.29280488446760355\n",
            "Iteration:  30\n",
            "[2 6 6 ... 9 1 1] [1 1 8 ... 7 4 9]\n",
            "0.35943997052476445\n",
            "Iteration:  40\n",
            "[2 1 6 ... 1 1 1] [1 1 8 ... 7 4 9]\n",
            "0.41460076846149796\n",
            "Iteration:  50\n",
            "[2 1 6 ... 1 1 1] [1 1 8 ... 7 4 9]\n",
            "0.4694983946523501\n",
            "Iteration:  60\n",
            "[2 1 8 ... 1 1 4] [1 1 8 ... 7 4 9]\n",
            "0.5163955997684089\n",
            "Iteration:  70\n",
            "[2 1 8 ... 1 1 4] [1 1 8 ... 7 4 9]\n",
            "0.5572398547291962\n",
            "Iteration:  80\n",
            "[2 1 8 ... 1 1 4] [1 1 8 ... 7 4 9]\n",
            "0.5895047107742513\n",
            "Iteration:  90\n",
            "[2 1 8 ... 1 1 4] [1 1 8 ... 7 4 9]\n",
            "0.6195589241539028\n",
            "Iteration:  100\n",
            "[2 1 8 ... 7 1 4] [1 1 8 ... 7 4 9]\n",
            "0.6431917469340491\n",
            "Iteration:  110\n",
            "[2 1 8 ... 7 1 4] [1 1 8 ... 7 4 9]\n",
            "0.6612979630506869\n",
            "Iteration:  120\n",
            "[2 1 8 ... 7 1 4] [1 1 8 ... 7 4 9]\n",
            "0.6790357387230906\n",
            "Iteration:  130\n",
            "[2 1 8 ... 7 4 4] [1 1 8 ... 7 4 9]\n",
            "0.690878467287752\n",
            "Iteration:  140\n",
            "[8 1 8 ... 7 4 4] [1 1 8 ... 7 4 9]\n",
            "0.7025632928048845\n",
            "Iteration:  150\n",
            "[8 1 8 ... 7 4 4] [1 1 8 ... 7 4 9]\n",
            "0.7138270435286068\n",
            "Iteration:  160\n",
            "[8 1 8 ... 7 4 4] [1 1 8 ... 7 4 9]\n",
            "0.7231959576819833\n",
            "Iteration:  170\n",
            "[8 1 8 ... 7 4 4] [1 1 8 ... 7 4 9]\n",
            "0.7332491183746513\n",
            "Iteration:  180\n",
            "[8 1 8 ... 7 4 4] [1 1 8 ... 7 4 9]\n",
            "0.7419864203379125\n",
            "Iteration:  190\n",
            "[8 1 8 ... 7 4 4] [1 1 8 ... 7 4 9]\n",
            "0.7498289383651772\n",
            "Iteration:  200\n",
            "[8 1 8 ... 7 4 4] [1 1 8 ... 7 4 9]\n",
            "0.7555134480762146\n",
            "Iteration:  210\n",
            "[8 1 8 ... 7 4 4] [1 1 8 ... 7 4 9]\n",
            "0.7622506447707774\n",
            "Iteration:  220\n",
            "[8 1 8 ... 7 4 4] [1 1 8 ... 7 4 9]\n",
            "0.7673035422916996\n",
            "Iteration:  230\n",
            "[8 1 8 ... 7 4 4] [1 1 8 ... 7 4 9]\n",
            "0.772777514606032\n",
            "Iteration:  240\n",
            "[8 1 8 ... 7 4 4] [1 1 8 ... 7 4 9]\n",
            "0.7779356808253066\n",
            "Iteration:  250\n",
            "[8 1 8 ... 7 4 4] [1 1 8 ... 7 4 9]\n",
            "0.781883257013527\n",
            "Iteration:  260\n",
            "[8 1 8 ... 7 4 4] [1 1 8 ... 7 4 9]\n",
            "0.7863045423443339\n",
            "Iteration:  270\n",
            "[8 1 8 ... 7 4 4] [1 1 8 ... 7 4 9]\n",
            "0.7899363124374967\n",
            "Iteration:  280\n",
            "[8 1 8 ... 7 4 4] [1 1 8 ... 7 4 9]\n",
            "0.7931470077372493\n",
            "Iteration:  290\n",
            "[8 1 8 ... 7 4 4] [1 1 8 ... 7 4 9]\n",
            "0.7965156060845308\n",
            "Iteration:  300\n",
            "[8 1 8 ... 7 4 4] [1 1 8 ... 7 4 9]\n",
            "0.7987262487499343\n",
            "Iteration:  310\n",
            "[8 1 8 ... 7 4 4] [1 1 8 ... 7 4 9]\n",
            "0.801779041002158\n",
            "Iteration:  320\n",
            "[8 1 8 ... 7 4 4] [1 1 8 ... 7 4 9]\n",
            "0.8050950050002632\n",
            "Iteration:  330\n",
            "[8 1 8 ... 7 4 9] [1 1 8 ... 7 4 9]\n",
            "0.8082530659508396\n",
            "Iteration:  340\n",
            "[8 1 8 ... 7 4 9] [1 1 8 ... 7 4 9]\n",
            "0.8105163429654192\n",
            "Iteration:  350\n",
            "[8 1 8 ... 7 4 9] [1 1 8 ... 7 4 9]\n",
            "0.8138849413127006\n",
            "Iteration:  360\n",
            "[8 1 8 ... 7 4 9] [1 1 8 ... 7 4 9]\n",
            "0.8160429496289279\n",
            "Iteration:  370\n",
            "[1 1 8 ... 7 4 9] [1 1 8 ... 7 4 9]\n",
            "0.8185693983893889\n",
            "Iteration:  380\n",
            "[1 1 8 ... 7 4 9] [1 1 8 ... 7 4 9]\n",
            "0.8212537501973788\n",
            "Iteration:  390\n",
            "[1 1 8 ... 7 4 9] [1 1 8 ... 7 4 9]\n",
            "0.8230959524185484\n",
            "Iteration:  400\n",
            "[1 1 8 ... 7 4 9] [1 1 8 ... 7 4 9]\n",
            "0.8248328859413654\n",
            "Iteration:  410\n",
            "[1 1 8 ... 7 4 9] [1 1 8 ... 7 4 9]\n",
            "0.827096162955945\n",
            "Iteration:  420\n",
            "[1 1 8 ... 7 4 9] [1 1 8 ... 7 4 9]\n",
            "0.8288857308279383\n",
            "Iteration:  430\n",
            "[1 1 8 ... 7 4 9] [1 1 8 ... 7 4 9]\n",
            "0.8307805673982841\n",
            "Iteration:  440\n",
            "[1 1 8 ... 7 4 9] [1 1 8 ... 7 4 9]\n",
            "0.8325175009211011\n",
            "Iteration:  450\n",
            "[1 1 8 ... 7 4 9] [1 1 8 ... 7 4 9]\n",
            "0.8344649718406232\n",
            "Iteration:  460\n",
            "[1 1 8 ... 7 4 9] [1 1 8 ... 7 4 9]\n",
            "0.8359913679667351\n",
            "Iteration:  470\n",
            "[1 1 8 ... 7 4 9] [1 1 8 ... 7 4 9]\n",
            "0.8380441075846097\n",
            "Iteration:  480\n",
            "[1 1 8 ... 7 4 9] [1 1 8 ... 7 4 9]\n",
            "0.8394126006631928\n",
            "Iteration:  490\n",
            "[1 1 8 ... 7 4 9] [1 1 8 ... 7 4 9]\n",
            "0.8411495341860098\n"
          ]
        }
      ]
    },
    {
      "cell_type": "code",
      "source": [
        "def make_predictions(X, W1, b1, W2, b2):\n",
        "    _, _, _, A2 = forward_prop(W1, b1, W2, b2, X)\n",
        "    predictions = get_predictions(A2)\n",
        "    return predictions\n",
        "\n",
        "def test_prediction(index, W1, b1, W2, b2):\n",
        "    current_image = X_train[:, index, None]\n",
        "    prediction = make_predictions(X_train[:, index, None], W1, b1, W2, b2)\n",
        "    label = Y_train[index]\n",
        "    print(\"Prediction: \", prediction)\n",
        "    print(\"Label: \", label)\n",
        "\n",
        "    current_image = current_image.reshape((28, 28)) * 255\n",
        "    plt.gray()\n",
        "    plt.imshow(current_image, interpolation='nearest')\n",
        "    plt.show()"
      ],
      "metadata": {
        "id": "j2Y4H8XK9oOm"
      },
      "execution_count": 6,
      "outputs": []
    },
    {
      "cell_type": "code",
      "source": [
        "test_prediction(0, W1, b1, W2, b2)\n",
        "test_prediction(1, W1, b1, W2, b2)\n",
        "test_prediction(2, W1, b1, W2, b2)\n",
        "test_prediction(3, W1, b1, W2, b2)\n"
      ],
      "metadata": {
        "id": "a9tzGUV3zf-u",
        "outputId": "66e93edf-83b2-451f-c46b-dab9e0e4bb66",
        "colab": {
          "base_uri": "https://localhost:8080/",
          "height": 1000
        }
      },
      "execution_count": 12,
      "outputs": [
        {
          "output_type": "stream",
          "name": "stdout",
          "text": [
            "Prediction:  [1]\n",
            "Label:  1\n"
          ]
        },
        {
          "output_type": "display_data",
          "data": {
            "text/plain": [
              "<Figure size 640x480 with 1 Axes>"
            ],
            "image/png": "[encoded data removed]"
          },
          "metadata": {}
        },
        {
          "output_type": "stream",
          "name": "stdout",
          "text": [
            "Prediction:  [1]\n",
            "Label:  1\n"
          ]
        },
        {
          "output_type": "display_data",
          "data": {
            "text/plain": [
              "<Figure size 640x480 with 1 Axes>"
            ],
            "image/png": "[encoded data removed]"
          },
          "metadata": {}
        },
        {
          "output_type": "stream",
          "name": "stdout",
          "text": [
            "Prediction:  [8]\n",
            "Label:  8\n"
          ]
        },
        {
          "output_type": "display_data",
          "data": {
            "text/plain": [
              "<Figure size 640x480 with 1 Axes>"
            ],
            "image/png": "[encoded data removed]"
          },
          "metadata": {}
        },
        {
          "output_type": "stream",
          "name": "stdout",
          "text": [
            "Prediction:  [5]\n",
            "Label:  8\n"
          ]
        },
        {
          "output_type": "display_data",
          "data": {
            "text/plain": [
              "<Figure size 640x480 with 1 Axes>"
            ],
            "image/png": "[encoded data removed]"
          },
          "metadata": {}
        }
      ]
    },
    {
      "cell_type": "code",
      "source": [
        "dev_predictions = make_predictions(X_dev, W1, b1, W2, b2)\n",
        "get_accuracy(dev_predictions, Y_dev)"
      ],
      "metadata": {
        "id": "OjUMtdXJzjW1",
        "outputId": "f1eac9c3-38c2-418f-f3c1-8141c989cd6d",
        "colab": {
          "base_uri": "https://localhost:8080/"
        }
      },
      "execution_count": 13,
      "outputs": [
        {
          "output_type": "stream",
          "name": "stdout",
          "text": [
            "[9 6 2 8 6 0 0 7 7 6 7 2 2 5 5 0 0 4 8 6 8 6 2 0 2 7 7 5 5 8 7 9 9 9 2 2 9\n",
            " 5 2 1 2 1 1 9 2 6 0 4 2 1 6 6 9 0 1 2 1 9 8 2 3 7 6 2 0 6 7 4 7 0 8 5 6 7\n",
            " 6 9 0 6 8 5 7 3 7 4 4 9 3 7 6 4 6 2 2 8 1 1 3 2 8 9 6 3 2 5 5 0 1 9 4 9 9\n",
            " 6 7 2 6 0 0 4 6 8 6 1 8 2 0 8 4 3 7 9 1 1 6 4 0 9 7 4 8 1 0 9 7 7 7 4 3 0\n",
            " 9 3 0 3 1 3 1 6 8 9 9 6 5 1 4 7 7 6 1 3 6 5 2 7 7 7 3 0 5 6 4 6 8 5 6 8 5\n",
            " 9 2 5 1 3 3 0 5 0 3 1 3 9 4 5 7 3 3 3 4 6 8 4 8 3 0 1 2 0 5 5 4 6 8 8 8 7\n",
            " 7 6 3 4 1 0 7 3 1 5 9 5 4 9 2 1 3 0 8 0 9 0 0 5 2 6 0 0 4 1 8 4 8 3 3 7 6\n",
            " 2 1 7 0 4 9 8 2 8 1 9 7 6 3 8 0 8 8 6 5 4 1 0 5 6 6 8 3 4 5 0 6 5 2 9 5 4\n",
            " 0 1 8 7 9 5 8 6 8 2 7 7 3 8 6 1 6 9 7 5 0 5 7 1 0 2 2 3 7 9 2 5 4 3 1 4 4\n",
            " 7 9 1 8 3 1 0 2 8 7 8 2 7 6 0 1 5 0 1 5 0 4 0 1 3 1 7 6 5 8 3 1 0 3 0 1 4\n",
            " 8 3 9 2 0 2 4 1 5 1 0 4 1 8 1 6 1 5 5 7 6 2 2 1 0 1 2 3 6 8 9 5 1 5 4 6 0\n",
            " 6 3 9 1 1 1 3 0 1 0 5 1 9 3 9 4 3 3 9 8 5 7 2 4 8 0 0 6 1 1 5 2 8 2 8 0 8\n",
            " 2 8 3 8 9 7 4 4 9 6 0 6 8 0 5 3 8 1 3 1 0 3 7 3 0 3 9 2 5 9 4 4 8 9 6 1 0\n",
            " 0 7 4 6 3 6 1 9 6 6 1 7 5 4 1 7 0 9 1 0 6 5 0 6 9 1 8 9 8 9 8 1 2 5 2 7 5\n",
            " 7 5 2 9 8 5 8 8 0 8 7 2 9 9 7 2 5 4 3 6 3 3 9 1 9 3 5 9 0 2 9 2 8 1 6 7 1\n",
            " 9 4 9 2 3 9 6 9 1 6 1 7 6 8 7 7 2 1 7 5 1 7 1 0 0 2 4 1 9 7 9 8 9 2 6 7 5\n",
            " 9 3 9 1 2 6 0 0 0 2 6 9 6 0 2 2 7 6 4 3 7 6 2 6 6 9 1 8 2 6 5 0 4 3 6 7 3\n",
            " 7 8 1 5 4 5 7 2 6 0 8 9 1 5 1 8 7 9 8 7 0 4 2 1 5 8 5 4 4 9 8 8 0 7 5 0 1\n",
            " 0 5 9 9 5 1 9 4 5 3 7 8 0 0 6 1 8 6 7 9 3 6 4 7 0 5 9 5 8 2 0 4 9 5 0 5 6\n",
            " 0 2 4 9 1 6 4 8 0 1 1 9 7 2 0 5 5 8 6 5 5 0 9 4 1 6 8 4 1 6 6 9 2 7 6 0 1\n",
            " 3 0 5 6 1 5 9 6 1 3 9 3 3 2 0 9 1 3 2 8 7 3 2 3 6 3 8 9 3 8 5 6 3 7 1 2 4\n",
            " 9 6 0 6 1 8 3 1 7 2 6 5 3 4 2 1 3 7 6 9 6 4 8 0 2 1 9 4 1 2 1 1 4 1 8 7 8\n",
            " 7 5 3 1 6 3 2 8 7 1 4 9 9 8 1 8 4 7 3 6 6 8 2 0 1 4 2 5 0 4 9 8 7 7 7 4 3\n",
            " 8 1 2 1 2 3 0 8 8 3 5 9 0 8 4 4 7 4 2 5 0 3 2 7 4 7 5 9 6 2 6 1 0 8 5 6 3\n",
            " 8 5 4 9 4 4 8 1 3 4 4 6 2 4 0 3 6 5 9 9 2 0 3 6 4 5 8 2 7 6 9 0 2 6 8 0 7\n",
            " 7 2 0 7 4 6 7 2 5 5 7 3 3 8 8 5 3 0 8 4 8 9 5 8 0 0 3 5 7 6 3 4 3 9 4 9 1\n",
            " 2 3 3 4 0 5 9 1 4 3 6 3 4 4 3 6 3 0 5 1 1 6 4 3 1 5 6 6 2 3 1 8 0 6 0 3 2\n",
            " 8] [9 5 2 8 6 0 5 7 7 6 7 2 2 8 5 0 0 4 8 6 8 6 2 0 2 7 9 5 3 8 7 9 9 9 6 2 4\n",
            " 5 6 1 4 1 1 9 2 6 0 4 2 1 6 6 9 0 1 2 1 9 8 2 3 7 6 2 0 6 7 4 8 0 8 5 6 7\n",
            " 6 9 0 6 1 3 7 3 7 9 4 9 3 7 6 9 6 1 2 8 1 1 3 2 8 9 6 3 2 5 3 0 1 9 4 9 9\n",
            " 8 7 2 6 0 0 4 6 8 6 1 8 2 5 8 4 3 7 9 1 1 6 4 0 9 7 4 8 1 0 9 7 7 7 4 3 0\n",
            " 9 0 0 5 5 5 1 8 1 4 9 6 9 1 4 7 7 6 1 3 6 5 2 7 7 7 3 0 3 6 8 6 3 5 6 5 5\n",
            " 7 2 3 1 3 3 0 5 0 3 1 5 4 4 5 7 3 3 3 4 6 7 4 8 8 0 1 2 0 5 2 4 6 8 8 8 7\n",
            " 7 6 2 4 1 0 7 8 1 3 4 3 4 4 2 1 2 0 8 0 9 0 0 3 2 2 0 0 4 1 8 4 8 3 3 7 6\n",
            " 2 1 1 0 4 9 8 2 8 1 4 7 6 3 8 0 8 9 6 5 4 1 0 5 6 6 8 3 4 5 0 6 5 2 9 3 4\n",
            " 0 1 8 7 9 5 6 6 3 2 7 7 3 8 4 1 6 9 7 5 0 5 7 1 0 2 2 3 7 9 2 0 4 3 1 4 4\n",
            " 7 9 1 8 3 1 0 2 8 7 8 2 7 6 0 1 5 0 1 3 0 4 0 1 3 1 7 6 5 5 3 8 0 2 0 1 4\n",
            " 8 3 9 2 0 2 9 1 5 1 0 4 1 8 1 6 1 5 5 7 6 4 2 1 0 1 2 3 6 3 9 5 1 5 4 5 0\n",
            " 6 5 9 4 8 1 8 5 1 0 8 1 9 8 9 4 3 3 9 8 3 8 2 4 3 0 0 6 1 1 5 2 8 2 8 0 8\n",
            " 2 1 3 8 9 7 4 4 9 6 7 2 8 0 5 3 8 1 3 8 0 3 7 3 0 3 9 9 5 4 4 4 8 9 6 1 0\n",
            " 0 7 4 6 3 6 1 9 6 6 1 7 8 4 1 2 0 9 1 0 6 6 0 6 9 7 8 9 9 9 0 1 9 3 2 2 5\n",
            " 7 5 2 9 8 5 8 0 0 9 7 2 9 9 9 2 5 4 3 6 3 3 9 1 9 3 5 9 0 3 9 2 8 1 2 7 1\n",
            " 8 9 4 2 3 2 6 9 1 4 1 7 6 5 7 7 2 1 7 5 1 7 1 0 0 2 4 1 9 7 9 8 9 2 6 7 3\n",
            " 9 3 9 1 2 6 0 0 0 2 6 9 6 0 2 2 7 6 4 3 7 6 2 6 6 9 1 8 6 4 5 7 4 3 6 7 3\n",
            " 7 7 1 5 4 5 7 0 4 0 8 8 1 8 1 8 7 5 8 7 0 4 2 1 7 9 5 4 4 9 8 8 0 7 5 0 1\n",
            " 0 5 9 4 5 1 9 4 5 3 7 8 0 0 5 1 8 6 7 9 3 6 4 7 0 8 9 5 8 2 0 4 9 5 0 5 6\n",
            " 0 3 4 9 1 6 4 8 0 1 1 9 3 2 0 5 6 8 6 5 5 0 4 4 1 6 8 4 1 6 6 9 2 7 6 0 1\n",
            " 3 0 3 6 1 3 8 6 1 3 2 3 3 2 0 9 1 3 2 3 7 3 2 3 6 3 8 9 3 9 5 6 3 7 1 2 4\n",
            " 4 6 0 6 1 3 3 1 7 2 6 5 3 4 3 1 3 7 6 9 6 4 8 0 2 1 9 4 1 2 1 1 7 1 5 7 8\n",
            " 7 5 3 1 6 3 2 8 7 1 4 9 9 8 2 8 4 7 3 6 6 8 2 0 1 9 2 3 0 4 9 8 7 7 7 4 3\n",
            " 5 1 2 1 2 3 0 8 3 3 5 9 0 8 4 4 7 9 4 5 5 3 2 7 4 7 0 9 6 2 6 1 0 8 5 6 2\n",
            " 8 8 4 9 4 4 8 1 2 4 4 6 2 4 0 8 6 5 4 9 2 0 3 6 4 5 8 2 7 6 5 5 2 6 2 5 7\n",
            " 9 2 0 7 4 6 7 2 5 5 7 3 3 8 8 5 3 0 5 4 8 9 7 8 0 0 3 5 9 6 3 4 3 9 4 9 1\n",
            " 2 3 3 9 0 5 0 1 4 3 6 5 4 4 3 6 3 0 3 1 1 6 4 3 1 5 6 6 2 3 1 8 0 6 0 5 2\n",
            " 8]\n"
          ]
        },
        {
          "output_type": "execute_result",
          "data": {
            "text/plain": [
              "0.845"
            ]
          },
          "metadata": {},
          "execution_count": 13
        }
      ]
    },
    {
      "cell_type": "code",
      "source": [],
      "metadata": {
        "id": "tauDjQ_T1Rli"
      },
      "execution_count": null,
      "outputs": []
    }
  ]
}